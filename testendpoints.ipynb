{
 "cells": [
  {
   "cell_type": "code",
   "execution_count": null,
   "id": "e6003e4a",
   "metadata": {},
   "outputs": [],
   "source": [
    "import string\n",
    "import random\n",
    "import time\n",
    "import asyncio\n",
    "from models import Hero, Heroes\n",
    "import aiohttp\n"
   ]
  },
  {
   "cell_type": "code",
   "execution_count": null,
   "id": "6f0dad28",
   "metadata": {},
   "outputs": [],
   "source": [
    "glob_id = 0\n",
    "def generate_random_hero():\n",
    "    global glob_id\n",
    "    hero_id = glob_id\n",
    "    glob_id += 1\n",
    "    name = \"\".join(random.choice(string.ascii_lowercase) for _ in range(10)).capitalize()\n",
    "    country = \"\".join(random.choice(string.ascii_lowercase) for _ in range(3)).capitalize() + \"land\"\n",
    "    return Hero(id=hero_id, name=name, country=country)\n"
   ]
  },
  {
   "cell_type": "code",
   "execution_count": null,
   "id": "734c22ce",
   "metadata": {},
   "outputs": [],
   "source": [
    "heroes = Heroes(data=[generate_random_hero() for _ in range(1000)], count=1000)"
   ]
  },
  {
   "cell_type": "code",
   "execution_count": null,
   "id": "64a331b5",
   "metadata": {},
   "outputs": [],
   "source": [
    "async def create_heroes(hero_list: Heroes, minimal=False):\n",
    "    url = 'http://localhost:8001/heroes/' + ('minimal/' if minimal else '')\n",
    "    \n",
    "    async def send_request(session, hero: Hero):\n",
    "        async with session.post(url, json=hero.model_dump()) as response:\n",
    "            return await response.text()\n",
    "    \n",
    "    async with aiohttp.ClientSession() as session:\n",
    "        tasks = [send_request(session, hero) for hero in hero_list.data]\n",
    "        t0 = time.time()\n",
    "        res = await asyncio.gather(*tasks)\n",
    "        print(\"time:\", time.time() - t0)\n",
    "        return res"
   ]
  },
  {
   "cell_type": "code",
   "execution_count": null,
   "id": "142944a3",
   "metadata": {},
   "outputs": [],
   "source": [
    "res = await create_heroes(heroes, False)\n",
    "print(res)\n"
   ]
  }
 ],
 "metadata": {
  "kernelspec": {
   "display_name": ".venv",
   "language": "python",
   "name": "python3"
  },
  "language_info": {
   "codemirror_mode": {
    "name": "ipython",
    "version": 3
   },
   "file_extension": ".py",
   "mimetype": "text/x-python",
   "name": "python",
   "nbconvert_exporter": "python",
   "pygments_lexer": "ipython3",
   "version": "3.11.10"
  }
 },
 "nbformat": 4,
 "nbformat_minor": 5
}
